{
 "cells": [
  {
   "cell_type": "code",
   "execution_count": 1,
   "id": "initial_id",
   "metadata": {
    "collapsed": true,
    "ExecuteTime": {
     "end_time": "2025-01-14T10:13:14.902004800Z",
     "start_time": "2025-01-14T10:13:14.896764100Z"
    }
   },
   "outputs": [],
   "source": [
    "import sys\n",
    "from importlib import reload"
   ]
  },
  {
   "cell_type": "markdown",
   "source": [
    "### Create NetCDF file"
   ],
   "metadata": {
    "collapsed": false
   },
   "id": "c690c6c4b003b751"
  },
  {
   "cell_type": "code",
   "outputs": [],
   "source": [
    "from paper_data import PaperData\n",
    "reload(sys.modules['paper_data'])\n",
    "from paper_data import PaperData\n",
    "\n",
    "p = PaperData(flx_name='rock')\n",
    "p.main()"
   ],
   "metadata": {
    "collapsed": false,
    "ExecuteTime": {
     "end_time": "2025-01-14T10:26:49.905878500Z",
     "start_time": "2025-01-14T10:26:48.501241500Z"
    }
   },
   "id": "38018564619a8274",
   "execution_count": 40
  },
  {
   "cell_type": "markdown",
   "source": [
    "### Read NetCDF file"
   ],
   "metadata": {
    "collapsed": false
   },
   "id": "da94263509abc559"
  },
  {
   "cell_type": "code",
   "outputs": [],
   "source": [
    "import netCDF4 as nc\n",
    "import numpy as np\n",
    "import matplotlib.pyplot as plt"
   ],
   "metadata": {
    "collapsed": false,
    "ExecuteTime": {
     "end_time": "2025-01-14T10:18:34.822233900Z",
     "start_time": "2025-01-14T10:18:34.408637200Z"
    }
   },
   "id": "33a11ea4ee3e7e5f",
   "execution_count": 16
  },
  {
   "cell_type": "code",
   "outputs": [],
   "source": [
    "flx_name = 'rock'\n",
    "# Year index in array, 0 for 2020, 50 for 2070\n",
    "year = 50\n",
    "fp = '../netcdf_outputs/{}_S2_U1_N2_p80100_v6.nc'.format(flx_name)\n",
    "\n",
    "try:\n",
    "    ds = nc.Dataset(fp)\n",
    "    # Latitude variable\n",
    "    lat = ds['lat'][:]\n",
    "    # Longitude variable\n",
    "    lon = ds['lon'][:]\n",
    "    # Flux variable\n",
    "    flx = ds[flx_name][:][:, :, year].data\n",
    "    # Flip flux\n",
    "    flx = np.flip(flx, axis=0)\n",
    "\n",
    "    # Do figure\n",
    "    plt.figure(figsize=(8, 6))\n",
    "    plt.imshow(flx, extent=[lon.min(), lon.max(), lat.min(), lat.max()], origin='lower')\n",
    "    plt.colorbar(label='Flux')\n",
    "    plt.xlabel('Longitude')\n",
    "    plt.ylabel('Latitude')\n",
    "    plt.title('Flux')\n",
    "    plt.show()\n",
    "    \n",
    "    # Close the file\n",
    "    ds.close()\n",
    "except Exception as E:\n",
    "    print(E) "
   ],
   "metadata": {
    "collapsed": false
   },
   "id": "f086c7ee8e3b8983",
   "execution_count": null
  }
 ],
 "metadata": {
  "kernelspec": {
   "display_name": "Python 3",
   "language": "python",
   "name": "python3"
  },
  "language_info": {
   "codemirror_mode": {
    "name": "ipython",
    "version": 2
   },
   "file_extension": ".py",
   "mimetype": "text/x-python",
   "name": "python",
   "nbconvert_exporter": "python",
   "pygments_lexer": "ipython2",
   "version": "2.7.6"
  }
 },
 "nbformat": 4,
 "nbformat_minor": 5
}
