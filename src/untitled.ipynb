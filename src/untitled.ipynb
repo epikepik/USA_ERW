{
 "cells": [
  {
   "cell_type": "code",
   "execution_count": 1,
   "id": "initial_id",
   "metadata": {
    "collapsed": true,
    "ExecuteTime": {
     "end_time": "2024-10-15T08:53:15.391852200Z",
     "start_time": "2024-10-15T08:53:15.388682400Z"
    }
   },
   "outputs": [],
   "source": [
    "import sys\n",
    "from importlib import reload"
   ]
  },
  {
   "cell_type": "code",
   "outputs": [],
   "source": [
    "from aa_paper_data import PaperData\n",
    "reload(sys.modules['aa_paper_data'])\n",
    "from aa_paper_data import PaperData\n",
    "\n",
    "p = PaperData(flx_name='K_mass')\n",
    "p.main()"
   ],
   "metadata": {
    "collapsed": false,
    "ExecuteTime": {
     "end_time": "2024-10-15T11:17:05.179378400Z",
     "start_time": "2024-10-15T11:17:04.249824300Z"
    }
   },
   "id": "38018564619a8274",
   "execution_count": 36
  }
 ],
 "metadata": {
  "kernelspec": {
   "display_name": "Python 3",
   "language": "python",
   "name": "python3"
  },
  "language_info": {
   "codemirror_mode": {
    "name": "ipython",
    "version": 2
   },
   "file_extension": ".py",
   "mimetype": "text/x-python",
   "name": "python",
   "nbconvert_exporter": "python",
   "pygments_lexer": "ipython2",
   "version": "2.7.6"
  }
 },
 "nbformat": 4,
 "nbformat_minor": 5
}
